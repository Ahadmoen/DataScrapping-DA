{
 "cells": [
  {
   "cell_type": "markdown",
   "id": "e7e46672-ae1b-484c-9573-c4a2a6a18ca5",
   "metadata": {},
   "source": [
    "# Data Cleaning\n",
    "\n",
    "### Correcting Data Types"
   ]
  },
  {
   "cell_type": "code",
   "execution_count": 389,
   "id": "0d3b8546-7a1d-4b44-b28d-b40d4b94b011",
   "metadata": {
    "tags": []
   },
   "outputs": [],
   "source": [
    "import numpy as np\n",
    "import matplotlib.pyplot as plt\n",
    "import pandas as pd\n",
    "import plotly.express as px\n",
    "import seaborn as sns\n",
    "import statsmodels.api as sm"
   ]
  },
  {
   "cell_type": "code",
   "execution_count": 391,
   "id": "d9e6ef4c-5003-4e20-9f23-05e2ea4143d7",
   "metadata": {
    "tags": []
   },
   "outputs": [],
   "source": [
    "GP_df = pd.read_csv('gaming_products.csv')"
   ]
  },
  {
   "cell_type": "code",
   "execution_count": 393,
   "id": "e9b166c2-94fa-406c-b23d-7b93330e1a88",
   "metadata": {
    "tags": []
   },
   "outputs": [
    {
     "data": {
      "text/html": [
       "<div>\n",
       "<style scoped>\n",
       "    .dataframe tbody tr th:only-of-type {\n",
       "        vertical-align: middle;\n",
       "    }\n",
       "\n",
       "    .dataframe tbody tr th {\n",
       "        vertical-align: top;\n",
       "    }\n",
       "\n",
       "    .dataframe thead th {\n",
       "        text-align: right;\n",
       "    }\n",
       "</style>\n",
       "<table border=\"1\" class=\"dataframe\">\n",
       "  <thead>\n",
       "    <tr style=\"text-align: right;\">\n",
       "      <th></th>\n",
       "      <th>Title</th>\n",
       "      <th>Price</th>\n",
       "      <th>Rating Count</th>\n",
       "      <th>Rating</th>\n",
       "      <th>Delivery Time</th>\n",
       "    </tr>\n",
       "  </thead>\n",
       "  <tbody>\n",
       "    <tr>\n",
       "      <th>0</th>\n",
       "      <td>Sceptre Curved 24.5-inch Gaming Monitor up to ...</td>\n",
       "      <td>139.</td>\n",
       "      <td>6,710</td>\n",
       "      <td>4.4</td>\n",
       "      <td>Tue, Nov 26</td>\n",
       "    </tr>\n",
       "    <tr>\n",
       "      <th>1</th>\n",
       "      <td>Frigidaire EFMIS179 Gaming Light Up Mini Bever...</td>\n",
       "      <td>52.</td>\n",
       "      <td>662</td>\n",
       "      <td>3.9</td>\n",
       "      <td>Tue, Nov 26</td>\n",
       "    </tr>\n",
       "    <tr>\n",
       "      <th>2</th>\n",
       "      <td>Sceptre New 27-inch Gaming Monitor 100Hz 1ms D...</td>\n",
       "      <td>98.</td>\n",
       "      <td>33,593</td>\n",
       "      <td>4.5</td>\n",
       "      <td>Tue, Nov 26</td>\n",
       "    </tr>\n",
       "    <tr>\n",
       "      <th>3</th>\n",
       "      <td>LED Light Bar, Music Sync RGB IC Light Bar, US...</td>\n",
       "      <td>15.</td>\n",
       "      <td>115</td>\n",
       "      <td>4.2</td>\n",
       "      <td>Tue, Nov 26</td>\n",
       "    </tr>\n",
       "    <tr>\n",
       "      <th>4</th>\n",
       "      <td>Logitech G502 HERO High Performance Wired Gami...</td>\n",
       "      <td>37.</td>\n",
       "      <td>53,190</td>\n",
       "      <td>4.7</td>\n",
       "      <td>NaN</td>\n",
       "    </tr>\n",
       "  </tbody>\n",
       "</table>\n",
       "</div>"
      ],
      "text/plain": [
       "                                               Title Price Rating Count  \\\n",
       "0  Sceptre Curved 24.5-inch Gaming Monitor up to ...  139.        6,710   \n",
       "1  Frigidaire EFMIS179 Gaming Light Up Mini Bever...   52.          662   \n",
       "2  Sceptre New 27-inch Gaming Monitor 100Hz 1ms D...   98.       33,593   \n",
       "3  LED Light Bar, Music Sync RGB IC Light Bar, US...   15.          115   \n",
       "4  Logitech G502 HERO High Performance Wired Gami...   37.       53,190   \n",
       "\n",
       "   Rating Delivery Time  \n",
       "0     4.4   Tue, Nov 26  \n",
       "1     3.9   Tue, Nov 26  \n",
       "2     4.5   Tue, Nov 26  \n",
       "3     4.2   Tue, Nov 26  \n",
       "4     4.7           NaN  "
      ]
     },
     "execution_count": 393,
     "metadata": {},
     "output_type": "execute_result"
    }
   ],
   "source": [
    "GP_df.head(5)"
   ]
  },
  {
   "cell_type": "code",
   "execution_count": 395,
   "id": "817f25c9-0f83-4fc9-8488-4eff412aba54",
   "metadata": {
    "tags": []
   },
   "outputs": [
    {
     "name": "stdout",
     "output_type": "stream",
     "text": [
      "<class 'pandas.core.frame.DataFrame'>\n",
      "RangeIndex: 48 entries, 0 to 47\n",
      "Data columns (total 5 columns):\n",
      " #   Column         Non-Null Count  Dtype  \n",
      "---  ------         --------------  -----  \n",
      " 0   Title          48 non-null     object \n",
      " 1   Price          39 non-null     object \n",
      " 2   Rating Count   48 non-null     object \n",
      " 3   Rating         48 non-null     float64\n",
      " 4   Delivery Time  37 non-null     object \n",
      "dtypes: float64(1), object(4)\n",
      "memory usage: 2.0+ KB\n"
     ]
    }
   ],
   "source": [
    "GP_df.info()"
   ]
  },
  {
   "cell_type": "code",
   "execution_count": 397,
   "id": "dcbe58e8-34e1-4c79-b71d-933b4b4f70a1",
   "metadata": {
    "tags": []
   },
   "outputs": [],
   "source": [
    "GP_df['Price'] = GP_df['Price'].str.replace(\",\", \"\", regex=True)\n",
    "\n",
    "\n",
    "GP_df['Price'] = pd.to_numeric(GP_df['Price'], errors='coerce')"
   ]
  },
  {
   "cell_type": "code",
   "execution_count": 399,
   "id": "2c4e9faa-8283-4047-a438-c7406c82a699",
   "metadata": {
    "tags": []
   },
   "outputs": [],
   "source": [
    "GP_df['Rating Count'] = GP_df['Rating Count'].str.replace(\",\", \"\", regex=True)\n",
    "GP_df['Rating Count'] = pd.to_numeric(GP_df['Rating Count'], errors='coerce')"
   ]
  },
  {
   "cell_type": "code",
   "execution_count": 401,
   "id": "d612d777-3b65-49a0-9378-2a0ea1e1cc1c",
   "metadata": {
    "tags": []
   },
   "outputs": [],
   "source": [
    "GP_df['Delivery Time'] = pd.to_datetime(GP_df['Delivery Time'], format=\"%a, %b %d\", errors='coerce')"
   ]
  },
  {
   "cell_type": "code",
   "execution_count": 403,
   "id": "547ea682-e854-4fdd-943c-1216325317e7",
   "metadata": {
    "tags": []
   },
   "outputs": [
    {
     "name": "stdout",
     "output_type": "stream",
     "text": [
      "<class 'pandas.core.frame.DataFrame'>\n",
      "RangeIndex: 48 entries, 0 to 47\n",
      "Data columns (total 5 columns):\n",
      " #   Column         Non-Null Count  Dtype         \n",
      "---  ------         --------------  -----         \n",
      " 0   Title          48 non-null     object        \n",
      " 1   Price          39 non-null     float64       \n",
      " 2   Rating Count   48 non-null     int64         \n",
      " 3   Rating         48 non-null     float64       \n",
      " 4   Delivery Time  37 non-null     datetime64[ns]\n",
      "dtypes: datetime64[ns](1), float64(2), int64(1), object(1)\n",
      "memory usage: 2.0+ KB\n"
     ]
    }
   ],
   "source": [
    "GP_df.info()"
   ]
  },
  {
   "cell_type": "code",
   "execution_count": 405,
   "id": "8712eae1-b3dc-47f4-ab6b-49ba3ffed303",
   "metadata": {
    "tags": []
   },
   "outputs": [
    {
     "data": {
      "text/html": [
       "<div>\n",
       "<style scoped>\n",
       "    .dataframe tbody tr th:only-of-type {\n",
       "        vertical-align: middle;\n",
       "    }\n",
       "\n",
       "    .dataframe tbody tr th {\n",
       "        vertical-align: top;\n",
       "    }\n",
       "\n",
       "    .dataframe thead th {\n",
       "        text-align: right;\n",
       "    }\n",
       "</style>\n",
       "<table border=\"1\" class=\"dataframe\">\n",
       "  <thead>\n",
       "    <tr style=\"text-align: right;\">\n",
       "      <th></th>\n",
       "      <th>Title</th>\n",
       "      <th>Price</th>\n",
       "      <th>Rating Count</th>\n",
       "      <th>Rating</th>\n",
       "      <th>Delivery Time</th>\n",
       "    </tr>\n",
       "  </thead>\n",
       "  <tbody>\n",
       "    <tr>\n",
       "      <th>0</th>\n",
       "      <td>Sceptre Curved 24.5-inch Gaming Monitor up to ...</td>\n",
       "      <td>139.0</td>\n",
       "      <td>6710</td>\n",
       "      <td>4.4</td>\n",
       "      <td>1900-11-26</td>\n",
       "    </tr>\n",
       "    <tr>\n",
       "      <th>1</th>\n",
       "      <td>Frigidaire EFMIS179 Gaming Light Up Mini Bever...</td>\n",
       "      <td>52.0</td>\n",
       "      <td>662</td>\n",
       "      <td>3.9</td>\n",
       "      <td>1900-11-26</td>\n",
       "    </tr>\n",
       "    <tr>\n",
       "      <th>2</th>\n",
       "      <td>Sceptre New 27-inch Gaming Monitor 100Hz 1ms D...</td>\n",
       "      <td>98.0</td>\n",
       "      <td>33593</td>\n",
       "      <td>4.5</td>\n",
       "      <td>1900-11-26</td>\n",
       "    </tr>\n",
       "    <tr>\n",
       "      <th>3</th>\n",
       "      <td>LED Light Bar, Music Sync RGB IC Light Bar, US...</td>\n",
       "      <td>15.0</td>\n",
       "      <td>115</td>\n",
       "      <td>4.2</td>\n",
       "      <td>1900-11-26</td>\n",
       "    </tr>\n",
       "    <tr>\n",
       "      <th>4</th>\n",
       "      <td>Logitech G502 HERO High Performance Wired Gami...</td>\n",
       "      <td>37.0</td>\n",
       "      <td>53190</td>\n",
       "      <td>4.7</td>\n",
       "      <td>NaT</td>\n",
       "    </tr>\n",
       "  </tbody>\n",
       "</table>\n",
       "</div>"
      ],
      "text/plain": [
       "                                               Title  Price  Rating Count  \\\n",
       "0  Sceptre Curved 24.5-inch Gaming Monitor up to ...  139.0          6710   \n",
       "1  Frigidaire EFMIS179 Gaming Light Up Mini Bever...   52.0           662   \n",
       "2  Sceptre New 27-inch Gaming Monitor 100Hz 1ms D...   98.0         33593   \n",
       "3  LED Light Bar, Music Sync RGB IC Light Bar, US...   15.0           115   \n",
       "4  Logitech G502 HERO High Performance Wired Gami...   37.0         53190   \n",
       "\n",
       "   Rating Delivery Time  \n",
       "0     4.4    1900-11-26  \n",
       "1     3.9    1900-11-26  \n",
       "2     4.5    1900-11-26  \n",
       "3     4.2    1900-11-26  \n",
       "4     4.7           NaT  "
      ]
     },
     "execution_count": 405,
     "metadata": {},
     "output_type": "execute_result"
    }
   ],
   "source": [
    "GP_df.head(5)"
   ]
  },
  {
   "cell_type": "markdown",
   "id": "45592e40-dea7-4e6d-a0d4-2d3aba4378e7",
   "metadata": {},
   "source": [
    "### Determine methods to fill Missing values "
   ]
  },
  {
   "cell_type": "markdown",
   "id": "eececc43-0f32-420d-a4d2-e5471a18b9ce",
   "metadata": {
    "tags": []
   },
   "source": [
    "##### checking correlation to decide how to fill the data"
   ]
  },
  {
   "cell_type": "code",
   "execution_count": 409,
   "id": "43870f6a-b544-447f-905a-afbb056060af",
   "metadata": {
    "tags": []
   },
   "outputs": [
    {
     "data": {
      "text/html": [
       "<div>\n",
       "<style scoped>\n",
       "    .dataframe tbody tr th:only-of-type {\n",
       "        vertical-align: middle;\n",
       "    }\n",
       "\n",
       "    .dataframe tbody tr th {\n",
       "        vertical-align: top;\n",
       "    }\n",
       "\n",
       "    .dataframe thead th {\n",
       "        text-align: right;\n",
       "    }\n",
       "</style>\n",
       "<table border=\"1\" class=\"dataframe\">\n",
       "  <thead>\n",
       "    <tr style=\"text-align: right;\">\n",
       "      <th></th>\n",
       "      <th>Rating Count</th>\n",
       "      <th>Rating</th>\n",
       "      <th>Price</th>\n",
       "    </tr>\n",
       "  </thead>\n",
       "  <tbody>\n",
       "    <tr>\n",
       "      <th>Rating Count</th>\n",
       "      <td>1.000000</td>\n",
       "      <td>0.296818</td>\n",
       "      <td>-0.157820</td>\n",
       "    </tr>\n",
       "    <tr>\n",
       "      <th>Rating</th>\n",
       "      <td>0.296818</td>\n",
       "      <td>1.000000</td>\n",
       "      <td>0.115799</td>\n",
       "    </tr>\n",
       "    <tr>\n",
       "      <th>Price</th>\n",
       "      <td>-0.157820</td>\n",
       "      <td>0.115799</td>\n",
       "      <td>1.000000</td>\n",
       "    </tr>\n",
       "  </tbody>\n",
       "</table>\n",
       "</div>"
      ],
      "text/plain": [
       "              Rating Count    Rating     Price\n",
       "Rating Count      1.000000  0.296818 -0.157820\n",
       "Rating            0.296818  1.000000  0.115799\n",
       "Price            -0.157820  0.115799  1.000000"
      ]
     },
     "execution_count": 409,
     "metadata": {},
     "output_type": "execute_result"
    }
   ],
   "source": [
    "GP_df[['Rating Count', 'Rating', 'Price']].corr()"
   ]
  },
  {
   "cell_type": "markdown",
   "id": "2afeecaf-90c1-43e3-9ff4-7c70577775fe",
   "metadata": {},
   "source": [
    "not correlate each with each other as close to 0s, let's visualize it"
   ]
  },
  {
   "cell_type": "code",
   "execution_count": 412,
   "id": "c575a9b4-5b37-4b8b-b4f5-52483917c7d3",
   "metadata": {
    "tags": []
   },
   "outputs": [
    {
     "data": {
      "image/png": "[encoded data removed]",
      "text/plain": [
       "<Figure size 1200x600 with 2 Axes>"
      ]
     },
     "metadata": {},
     "output_type": "display_data"
    }
   ],
   "source": [
    "import matplotlib.pyplot as plt\n",
    "import seaborn as sns\n",
    "\n",
    "# Scatter plots\n",
    "plt.figure(figsize=(12, 6))\n",
    "plt.subplot(1, 2, 1)\n",
    "sns.scatterplot(x=GP_df['Rating Count'], y=GP_df['Price'])\n",
    "plt.title('Rating Count vs Price')\n",
    "\n",
    "plt.subplot(1, 2, 2)\n",
    "sns.scatterplot(x=GP_df['Rating'], y=GP_df['Price'])\n",
    "plt.title('Rating vs Price')\n",
    "\n",
    "plt.tight_layout()\n",
    "plt.show()"
   ]
  },
  {
   "cell_type": "markdown",
   "id": "b2230a26-9992-4724-8c60-27ad65d212bb",
   "metadata": {},
   "source": [
    "### Note:\n",
    "\n",
    "> as we did model evaluation so **rating count or rating is not depending on price** so we we continue our process with clustering"
   ]
  },
  {
   "cell_type": "markdown",
   "id": "966c362c-a6f2-4e7c-b513-d84174c9f71b",
   "metadata": {},
   "source": [
    "### clustering the data before handling missing values as different categorize product exists"
   ]
  },
  {
   "cell_type": "code",
   "execution_count": 415,
   "id": "c375dc35-1423-40fa-b081-0b4c9630436b",
   "metadata": {
    "tags": []
   },
   "outputs": [
    {
     "data": {
      "text/plain": [
       "count      39.000000\n",
       "mean       96.897436\n",
       "std       175.552481\n",
       "min         6.000000\n",
       "25%        21.500000\n",
       "50%        52.000000\n",
       "75%       111.500000\n",
       "max      1099.000000\n",
       "Name: Price, dtype: float64"
      ]
     },
     "execution_count": 415,
     "metadata": {},
     "output_type": "execute_result"
    }
   ],
   "source": [
    "GP_df['Price'].describe()"
   ]
  },
  {
   "cell_type": "code",
   "execution_count": 417,
   "id": "816d1399-9b45-4c35-b0f4-47c4abb2a493",
   "metadata": {
    "tags": []
   },
   "outputs": [
    {
     "name": "stdout",
     "output_type": "stream",
     "text": [
      "<class 'pandas.core.frame.DataFrame'>\n",
      "RangeIndex: 48 entries, 0 to 47\n",
      "Data columns (total 5 columns):\n",
      " #   Column         Non-Null Count  Dtype         \n",
      "---  ------         --------------  -----         \n",
      " 0   Title          48 non-null     object        \n",
      " 1   Price          39 non-null     float64       \n",
      " 2   Rating Count   48 non-null     int64         \n",
      " 3   Rating         48 non-null     float64       \n",
      " 4   Delivery Time  37 non-null     datetime64[ns]\n",
      "dtypes: datetime64[ns](1), float64(2), int64(1), object(1)\n",
      "memory usage: 2.0+ KB\n"
     ]
    }
   ],
   "source": [
    "GP_df.info()"
   ]
  },
  {
   "cell_type": "markdown",
   "id": "7ee2de4f-f651-4d6a-bc8a-bfa740983b7d",
   "metadata": {},
   "source": [
    "checking for how much clusters will make impact"
   ]
  },
  {
   "cell_type": "code",
   "execution_count": 420,
   "id": "e1249050-bb7d-4572-9f4c-b84c4a22824b",
   "metadata": {
    "tags": []
   },
   "outputs": [
    {
     "data": {
      "image/png": "[encoded data removed]",
      "text/plain": [
       "<Figure size 640x480 with 1 Axes>"
      ]
     },
     "metadata": {},
     "output_type": "display_data"
    }
   ],
   "source": [
    "import matplotlib.pyplot as plt\n",
    "\n",
    "# Test for a range of cluster sizes\n",
    "inertia_values = []\n",
    "k_range = range(1, 11)\n",
    "\n",
    "for k in k_range:\n",
    "    kmeans = KMeans(n_clusters=k, n_init=10, random_state=42)\n",
    "    kmeans.fit(X)\n",
    "    inertia_values.append(kmeans.inertia_)\n",
    "\n",
    "# Plot Inertia vs Number of Clusters\n",
    "plt.plot(k_range, inertia_values, marker='o')\n",
    "plt.title('Elbow Method for Optimal k')\n",
    "plt.xlabel('Number of Clusters')\n",
    "plt.ylabel('Inertia')\n",
    "plt.show()\n"
   ]
  },
  {
   "cell_type": "markdown",
   "id": "ae7c881e-ada7-49cc-b5a3-4dd99eebc893",
   "metadata": {},
   "source": [
    "The elbow point in this graph appears at k=3 or k=4, where the inertia drops sharply initially (from k=1 to k=3) and then slows down significantly, indicating diminishing returns. Beyond k=4, the line flattens, suggesting additional clusters add little value to improving the fit. Hence, k=3 or k=4 is a reasonable choice for the optimal number of clusters."
   ]
  },
  {
   "cell_type": "code",
   "execution_count": 423,
   "id": "70d3caa0-aa6a-4e36-b693-c9f175745277",
   "metadata": {
    "tags": []
   },
   "outputs": [],
   "source": [
    "from sklearn.cluster import KMeans\n",
    "import numpy as np\n",
    "import pandas as pd\n",
    "\n",
    "X = GP_df[['Rating Count', 'Rating']] \n",
    "y = GP_df['Price'] \n",
    "\n",
    "# Cluster the data\n",
    "kmeans = KMeans(n_clusters=3,  n_init=10, random_state=42)  # Set the number of clusters\n",
    "X_complete = X.dropna()  # Remove rows with missing values in features\n",
    "kmeans.fit(X_complete)\n",
    "\n",
    "\n",
    "# Predict clusters for the full data\n",
    "GP_df['cluster'] = kmeans.predict(X)"
   ]
  },
  {
   "cell_type": "code",
   "execution_count": 425,
   "id": "e5b6e67f-e5e3-4073-b0a2-85dcdc039578",
   "metadata": {
    "tags": []
   },
   "outputs": [
    {
     "name": "stdout",
     "output_type": "stream",
     "text": [
      "<class 'pandas.core.frame.DataFrame'>\n",
      "RangeIndex: 48 entries, 0 to 47\n",
      "Data columns (total 6 columns):\n",
      " #   Column         Non-Null Count  Dtype         \n",
      "---  ------         --------------  -----         \n",
      " 0   Title          48 non-null     object        \n",
      " 1   Price          39 non-null     float64       \n",
      " 2   Rating Count   48 non-null     int64         \n",
      " 3   Rating         48 non-null     float64       \n",
      " 4   Delivery Time  37 non-null     datetime64[ns]\n",
      " 5   cluster        48 non-null     int32         \n",
      "dtypes: datetime64[ns](1), float64(2), int32(1), int64(1), object(1)\n",
      "memory usage: 2.2+ KB\n"
     ]
    }
   ],
   "source": [
    "GP_df.info()"
   ]
  },
  {
   "cell_type": "code",
   "execution_count": 427,
   "id": "a3734260-1a63-4ee5-8744-d1eca61b21a9",
   "metadata": {
    "tags": []
   },
   "outputs": [
    {
     "data": {
      "text/html": [
       "<div>\n",
       "<style scoped>\n",
       "    .dataframe tbody tr th:only-of-type {\n",
       "        vertical-align: middle;\n",
       "    }\n",
       "\n",
       "    .dataframe tbody tr th {\n",
       "        vertical-align: top;\n",
       "    }\n",
       "\n",
       "    .dataframe thead th {\n",
       "        text-align: right;\n",
       "    }\n",
       "</style>\n",
       "<table border=\"1\" class=\"dataframe\">\n",
       "  <thead>\n",
       "    <tr style=\"text-align: right;\">\n",
       "      <th></th>\n",
       "      <th>Title</th>\n",
       "      <th>Price</th>\n",
       "      <th>Rating Count</th>\n",
       "      <th>Rating</th>\n",
       "      <th>Delivery Time</th>\n",
       "      <th>cluster</th>\n",
       "    </tr>\n",
       "  </thead>\n",
       "  <tbody>\n",
       "    <tr>\n",
       "      <th>0</th>\n",
       "      <td>Sceptre Curved 24.5-inch Gaming Monitor up to ...</td>\n",
       "      <td>139.0</td>\n",
       "      <td>6710</td>\n",
       "      <td>4.4</td>\n",
       "      <td>1900-11-26</td>\n",
       "      <td>0</td>\n",
       "    </tr>\n",
       "    <tr>\n",
       "      <th>1</th>\n",
       "      <td>Frigidaire EFMIS179 Gaming Light Up Mini Bever...</td>\n",
       "      <td>52.0</td>\n",
       "      <td>662</td>\n",
       "      <td>3.9</td>\n",
       "      <td>1900-11-26</td>\n",
       "      <td>0</td>\n",
       "    </tr>\n",
       "    <tr>\n",
       "      <th>2</th>\n",
       "      <td>Sceptre New 27-inch Gaming Monitor 100Hz 1ms D...</td>\n",
       "      <td>98.0</td>\n",
       "      <td>33593</td>\n",
       "      <td>4.5</td>\n",
       "      <td>1900-11-26</td>\n",
       "      <td>2</td>\n",
       "    </tr>\n",
       "    <tr>\n",
       "      <th>3</th>\n",
       "      <td>LED Light Bar, Music Sync RGB IC Light Bar, US...</td>\n",
       "      <td>15.0</td>\n",
       "      <td>115</td>\n",
       "      <td>4.2</td>\n",
       "      <td>1900-11-26</td>\n",
       "      <td>0</td>\n",
       "    </tr>\n",
       "    <tr>\n",
       "      <th>4</th>\n",
       "      <td>Logitech G502 HERO High Performance Wired Gami...</td>\n",
       "      <td>37.0</td>\n",
       "      <td>53190</td>\n",
       "      <td>4.7</td>\n",
       "      <td>NaT</td>\n",
       "      <td>2</td>\n",
       "    </tr>\n",
       "  </tbody>\n",
       "</table>\n",
       "</div>"
      ],
      "text/plain": [
       "                                               Title  Price  Rating Count  \\\n",
       "0  Sceptre Curved 24.5-inch Gaming Monitor up to ...  139.0          6710   \n",
       "1  Frigidaire EFMIS179 Gaming Light Up Mini Bever...   52.0           662   \n",
       "2  Sceptre New 27-inch Gaming Monitor 100Hz 1ms D...   98.0         33593   \n",
       "3  LED Light Bar, Music Sync RGB IC Light Bar, US...   15.0           115   \n",
       "4  Logitech G502 HERO High Performance Wired Gami...   37.0         53190   \n",
       "\n",
       "   Rating Delivery Time  cluster  \n",
       "0     4.4    1900-11-26        0  \n",
       "1     3.9    1900-11-26        0  \n",
       "2     4.5    1900-11-26        2  \n",
       "3     4.2    1900-11-26        0  \n",
       "4     4.7           NaT        2  "
      ]
     },
     "execution_count": 427,
     "metadata": {},
     "output_type": "execute_result"
    }
   ],
   "source": [
    "GP_df.head(5)"
   ]
  },
  {
   "cell_type": "code",
   "execution_count": 429,
   "id": "d4cc044e-dacb-430c-a815-ac5d6bb3130d",
   "metadata": {
    "tags": []
   },
   "outputs": [
    {
     "data": {
      "text/plain": [
       "cluster\n",
       "0    112.642857\n",
       "1     25.333333\n",
       "2     68.625000\n",
       "Name: Price, dtype: float64"
      ]
     },
     "execution_count": 429,
     "metadata": {},
     "output_type": "execute_result"
    }
   ],
   "source": [
    "GP_df.groupby('cluster')['Price'].mean()"
   ]
  },
  {
   "cell_type": "code",
   "execution_count": 431,
   "id": "d23cc4b0-dee9-4975-96ec-b2514f6e5417",
   "metadata": {
    "tags": []
   },
   "outputs": [
    {
     "data": {
      "text/plain": [
       "cluster\n",
       "0    4.427273\n",
       "1    4.550000\n",
       "2    4.554545\n",
       "Name: Rating, dtype: float64"
      ]
     },
     "execution_count": 431,
     "metadata": {},
     "output_type": "execute_result"
    }
   ],
   "source": [
    "GP_df.groupby('cluster')['Rating'].mean()"
   ]
  },
  {
   "cell_type": "code",
   "execution_count": 433,
   "id": "b2591641-bf05-4d8f-9a8c-df064cc91940",
   "metadata": {
    "tags": []
   },
   "outputs": [
    {
     "data": {
      "text/plain": [
       "cluster\n",
       "0     3532.484848\n",
       "1    88761.750000\n",
       "2    29158.181818\n",
       "Name: Rating Count, dtype: float64"
      ]
     },
     "execution_count": 433,
     "metadata": {},
     "output_type": "execute_result"
    }
   ],
   "source": [
    "GP_df.groupby('cluster')['Rating Count'].mean()"
   ]
  },
  {
   "cell_type": "markdown",
   "id": "a6b43124-5da3-4575-a543-03ff7ecab7af",
   "metadata": {},
   "source": [
    "### now filling values base on clusters"
   ]
  },
  {
   "cell_type": "code",
   "execution_count": 436,
   "id": "2c3d4bd6-3303-4652-ae54-44106786ed98",
   "metadata": {
    "tags": []
   },
   "outputs": [],
   "source": [
    "cluster_means = GP_df.groupby('cluster')['Price'].mean()\n",
    "\n",
    "# Fill missing values by assigning the mean 'Price' of the corresponding cluster\n",
    "GP_df['Price'] = GP_df.apply(\n",
    "    lambda row: cluster_means[row['cluster']] if pd.isna(row['Price']) else row['Price'],\n",
    "    axis=1\n",
    ")"
   ]
  },
  {
   "cell_type": "code",
   "execution_count": 438,
   "id": "95bd0bb1-dda3-4ff6-96a9-17abc1d2ee01",
   "metadata": {
    "tags": []
   },
   "outputs": [
    {
     "data": {
      "text/plain": [
       "count      48.000000\n",
       "mean       95.279638\n",
       "std       158.432680\n",
       "min         6.000000\n",
       "25%        24.750000\n",
       "50%        67.312500\n",
       "75%       112.642857\n",
       "max      1099.000000\n",
       "Name: Price, dtype: float64"
      ]
     },
     "execution_count": 438,
     "metadata": {},
     "output_type": "execute_result"
    }
   ],
   "source": [
    "GP_df['Price'].describe()"
   ]
  },
  {
   "cell_type": "markdown",
   "id": "cdb10f16-9886-4319-b0e4-15b9a4980a7a",
   "metadata": {},
   "source": [
    "filled desired values with very less varance in actuall dat"
   ]
  },
  {
   "cell_type": "code",
   "execution_count": 441,
   "id": "6ef3f5dd-c2f9-4229-a8d4-60aebf7751e7",
   "metadata": {
    "tags": []
   },
   "outputs": [
    {
     "name": "stdout",
     "output_type": "stream",
     "text": [
      "<class 'pandas.core.frame.DataFrame'>\n",
      "RangeIndex: 48 entries, 0 to 47\n",
      "Data columns (total 6 columns):\n",
      " #   Column         Non-Null Count  Dtype         \n",
      "---  ------         --------------  -----         \n",
      " 0   Title          48 non-null     object        \n",
      " 1   Price          48 non-null     float64       \n",
      " 2   Rating Count   48 non-null     int64         \n",
      " 3   Rating         48 non-null     float64       \n",
      " 4   Delivery Time  37 non-null     datetime64[ns]\n",
      " 5   cluster        48 non-null     int32         \n",
      "dtypes: datetime64[ns](1), float64(2), int32(1), int64(1), object(1)\n",
      "memory usage: 2.2+ KB\n"
     ]
    }
   ],
   "source": [
    "GP_df.info()"
   ]
  },
  {
   "cell_type": "code",
   "execution_count": 443,
   "id": "771f88f0-a261-456e-9827-97642e250684",
   "metadata": {
    "tags": []
   },
   "outputs": [
    {
     "data": {
      "text/html": [
       "<div>\n",
       "<style scoped>\n",
       "    .dataframe tbody tr th:only-of-type {\n",
       "        vertical-align: middle;\n",
       "    }\n",
       "\n",
       "    .dataframe tbody tr th {\n",
       "        vertical-align: top;\n",
       "    }\n",
       "\n",
       "    .dataframe thead th {\n",
       "        text-align: right;\n",
       "    }\n",
       "</style>\n",
       "<table border=\"1\" class=\"dataframe\">\n",
       "  <thead>\n",
       "    <tr style=\"text-align: right;\">\n",
       "      <th></th>\n",
       "      <th>Title</th>\n",
       "      <th>Price</th>\n",
       "      <th>Rating Count</th>\n",
       "      <th>Rating</th>\n",
       "      <th>Delivery Time</th>\n",
       "      <th>cluster</th>\n",
       "    </tr>\n",
       "  </thead>\n",
       "  <tbody>\n",
       "    <tr>\n",
       "      <th>0</th>\n",
       "      <td>Sceptre Curved 24.5-inch Gaming Monitor up to ...</td>\n",
       "      <td>139.0</td>\n",
       "      <td>6710</td>\n",
       "      <td>4.4</td>\n",
       "      <td>1900-11-26</td>\n",
       "      <td>0</td>\n",
       "    </tr>\n",
       "    <tr>\n",
       "      <th>1</th>\n",
       "      <td>Frigidaire EFMIS179 Gaming Light Up Mini Bever...</td>\n",
       "      <td>52.0</td>\n",
       "      <td>662</td>\n",
       "      <td>3.9</td>\n",
       "      <td>1900-11-26</td>\n",
       "      <td>0</td>\n",
       "    </tr>\n",
       "    <tr>\n",
       "      <th>2</th>\n",
       "      <td>Sceptre New 27-inch Gaming Monitor 100Hz 1ms D...</td>\n",
       "      <td>98.0</td>\n",
       "      <td>33593</td>\n",
       "      <td>4.5</td>\n",
       "      <td>1900-11-26</td>\n",
       "      <td>2</td>\n",
       "    </tr>\n",
       "    <tr>\n",
       "      <th>3</th>\n",
       "      <td>LED Light Bar, Music Sync RGB IC Light Bar, US...</td>\n",
       "      <td>15.0</td>\n",
       "      <td>115</td>\n",
       "      <td>4.2</td>\n",
       "      <td>1900-11-26</td>\n",
       "      <td>0</td>\n",
       "    </tr>\n",
       "    <tr>\n",
       "      <th>4</th>\n",
       "      <td>Logitech G502 HERO High Performance Wired Gami...</td>\n",
       "      <td>37.0</td>\n",
       "      <td>53190</td>\n",
       "      <td>4.7</td>\n",
       "      <td>NaT</td>\n",
       "      <td>2</td>\n",
       "    </tr>\n",
       "  </tbody>\n",
       "</table>\n",
       "</div>"
      ],
      "text/plain": [
       "                                               Title  Price  Rating Count  \\\n",
       "0  Sceptre Curved 24.5-inch Gaming Monitor up to ...  139.0          6710   \n",
       "1  Frigidaire EFMIS179 Gaming Light Up Mini Bever...   52.0           662   \n",
       "2  Sceptre New 27-inch Gaming Monitor 100Hz 1ms D...   98.0         33593   \n",
       "3  LED Light Bar, Music Sync RGB IC Light Bar, US...   15.0           115   \n",
       "4  Logitech G502 HERO High Performance Wired Gami...   37.0         53190   \n",
       "\n",
       "   Rating Delivery Time  cluster  \n",
       "0     4.4    1900-11-26        0  \n",
       "1     3.9    1900-11-26        0  \n",
       "2     4.5    1900-11-26        2  \n",
       "3     4.2    1900-11-26        0  \n",
       "4     4.7           NaT        2  "
      ]
     },
     "execution_count": 443,
     "metadata": {},
     "output_type": "execute_result"
    }
   ],
   "source": [
    "GP_df.head(5)"
   ]
  },
  {
   "cell_type": "code",
   "execution_count": 447,
   "id": "534d0805-863a-4325-a53c-df40e653cfa5",
   "metadata": {
    "tags": []
   },
   "outputs": [],
   "source": [
    "GP_df.to_csv('gaming_products_Cleaned.csv', index=False)"
   ]
  },
  {
   "cell_type": "code",
   "execution_count": null,
   "id": "68a6a34f-fcb9-4822-97e7-4eb6d95f2026",
   "metadata": {},
   "outputs": [],
   "source": []
  }
 ],
 "metadata": {
  "kernelspec": {
   "display_name": "Python 3 (ipykernel)",
   "language": "python",
   "name": "python3"
  },
  "language_info": {
   "codemirror_mode": {
    "name": "ipython",
    "version": 3
   },
   "file_extension": ".py",
   "mimetype": "text/x-python",
   "name": "python",
   "nbconvert_exporter": "python",
   "pygments_lexer": "ipython3",
   "version": "3.11.5"
  }
 },
 "nbformat": 4,
 "nbformat_minor": 5
}
